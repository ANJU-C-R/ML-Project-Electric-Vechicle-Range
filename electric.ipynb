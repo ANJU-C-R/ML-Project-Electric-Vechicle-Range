{
 "cells": [
  {
   "cell_type": "code",
   "execution_count": 2,
   "id": "cc67ea46",
   "metadata": {},
   "outputs": [],
   "source": [
    "import numpy as np\n",
    "import pandas as pd\n",
    "import matplotlib.pyplot as plt\n",
    "import seaborn as sns\n",
    "from scipy.stats import f_oneway\n",
    "from sklearn.preprocessing import LabelEncoder,StandardScaler\n",
    "from sklearn.model_selection import train_test_split\n",
    "from sklearn.neighbors import KNeighborsRegressor\n",
    "from sklearn.naive_bayes import BernoulliNB\n",
    "from sklearn.ensemble import RandomForestRegressor\n",
    "from sklearn.tree import DecisionTreeRegressor\n",
    "from sklearn.linear_model import LinearRegression\n",
    "from sklearn.metrics import r2_score,mean_absolute_percentage_error\n"
   ]
  },
  {
   "cell_type": "code",
   "execution_count": 3,
   "id": "715d6760",
   "metadata": {},
   "outputs": [
    {
     "data": {
      "text/html": [
       "<div>\n",
       "<style scoped>\n",
       "    .dataframe tbody tr th:only-of-type {\n",
       "        vertical-align: middle;\n",
       "    }\n",
       "\n",
       "    .dataframe tbody tr th {\n",
       "        vertical-align: top;\n",
       "    }\n",
       "\n",
       "    .dataframe thead th {\n",
       "        text-align: right;\n",
       "    }\n",
       "</style>\n",
       "<table border=\"1\" class=\"dataframe\">\n",
       "  <thead>\n",
       "    <tr style=\"text-align: right;\">\n",
       "      <th></th>\n",
       "      <th>VIN (1-10)</th>\n",
       "      <th>County</th>\n",
       "      <th>City</th>\n",
       "      <th>State</th>\n",
       "      <th>Postal Code</th>\n",
       "      <th>Model Year</th>\n",
       "      <th>Make</th>\n",
       "      <th>Model</th>\n",
       "      <th>Electric Vehicle Type</th>\n",
       "      <th>Clean Alternative Fuel Vehicle (CAFV) Eligibility</th>\n",
       "      <th>Electric Range</th>\n",
       "      <th>Base MSRP</th>\n",
       "      <th>Legislative District</th>\n",
       "      <th>DOL Vehicle ID</th>\n",
       "      <th>Vehicle Location</th>\n",
       "      <th>Electric Utility</th>\n",
       "      <th>2020 Census Tract</th>\n",
       "    </tr>\n",
       "  </thead>\n",
       "  <tbody>\n",
       "    <tr>\n",
       "      <th>0</th>\n",
       "      <td>5YJ3E1EBXK</td>\n",
       "      <td>King</td>\n",
       "      <td>Seattle</td>\n",
       "      <td>WA</td>\n",
       "      <td>98178.0</td>\n",
       "      <td>2019</td>\n",
       "      <td>TESLA</td>\n",
       "      <td>MODEL 3</td>\n",
       "      <td>Battery Electric Vehicle (BEV)</td>\n",
       "      <td>Clean Alternative Fuel Vehicle Eligible</td>\n",
       "      <td>220.0</td>\n",
       "      <td>0.0</td>\n",
       "      <td>37.0</td>\n",
       "      <td>477309682</td>\n",
       "      <td>POINT (-122.23825 47.49461)</td>\n",
       "      <td>CITY OF SEATTLE - (WA)|CITY OF TACOMA - (WA)</td>\n",
       "      <td>5.303301e+10</td>\n",
       "    </tr>\n",
       "    <tr>\n",
       "      <th>1</th>\n",
       "      <td>5YJYGDEE3L</td>\n",
       "      <td>Kitsap</td>\n",
       "      <td>Poulsbo</td>\n",
       "      <td>WA</td>\n",
       "      <td>98370.0</td>\n",
       "      <td>2020</td>\n",
       "      <td>TESLA</td>\n",
       "      <td>MODEL Y</td>\n",
       "      <td>Battery Electric Vehicle (BEV)</td>\n",
       "      <td>Clean Alternative Fuel Vehicle Eligible</td>\n",
       "      <td>291.0</td>\n",
       "      <td>0.0</td>\n",
       "      <td>23.0</td>\n",
       "      <td>109705683</td>\n",
       "      <td>POINT (-122.64681 47.73689)</td>\n",
       "      <td>PUGET SOUND ENERGY INC</td>\n",
       "      <td>5.303509e+10</td>\n",
       "    </tr>\n",
       "    <tr>\n",
       "      <th>2</th>\n",
       "      <td>KM8KRDAF5P</td>\n",
       "      <td>Kitsap</td>\n",
       "      <td>Olalla</td>\n",
       "      <td>WA</td>\n",
       "      <td>98359.0</td>\n",
       "      <td>2023</td>\n",
       "      <td>HYUNDAI</td>\n",
       "      <td>IONIQ 5</td>\n",
       "      <td>Battery Electric Vehicle (BEV)</td>\n",
       "      <td>Eligibility unknown as battery range has not b...</td>\n",
       "      <td>0.0</td>\n",
       "      <td>0.0</td>\n",
       "      <td>26.0</td>\n",
       "      <td>230390492</td>\n",
       "      <td>POINT (-122.54729 47.42602)</td>\n",
       "      <td>PUGET SOUND ENERGY INC</td>\n",
       "      <td>5.303509e+10</td>\n",
       "    </tr>\n",
       "    <tr>\n",
       "      <th>3</th>\n",
       "      <td>5UXTA6C0XM</td>\n",
       "      <td>Kitsap</td>\n",
       "      <td>Seabeck</td>\n",
       "      <td>WA</td>\n",
       "      <td>98380.0</td>\n",
       "      <td>2021</td>\n",
       "      <td>BMW</td>\n",
       "      <td>X5</td>\n",
       "      <td>Plug-in Hybrid Electric Vehicle (PHEV)</td>\n",
       "      <td>Clean Alternative Fuel Vehicle Eligible</td>\n",
       "      <td>30.0</td>\n",
       "      <td>0.0</td>\n",
       "      <td>35.0</td>\n",
       "      <td>267929112</td>\n",
       "      <td>POINT (-122.81585 47.64509)</td>\n",
       "      <td>PUGET SOUND ENERGY INC</td>\n",
       "      <td>5.303509e+10</td>\n",
       "    </tr>\n",
       "    <tr>\n",
       "      <th>4</th>\n",
       "      <td>JTMAB3FV7P</td>\n",
       "      <td>Thurston</td>\n",
       "      <td>Rainier</td>\n",
       "      <td>WA</td>\n",
       "      <td>98576.0</td>\n",
       "      <td>2023</td>\n",
       "      <td>TOYOTA</td>\n",
       "      <td>RAV4 PRIME</td>\n",
       "      <td>Plug-in Hybrid Electric Vehicle (PHEV)</td>\n",
       "      <td>Clean Alternative Fuel Vehicle Eligible</td>\n",
       "      <td>42.0</td>\n",
       "      <td>0.0</td>\n",
       "      <td>2.0</td>\n",
       "      <td>236505139</td>\n",
       "      <td>POINT (-122.68993 46.88897)</td>\n",
       "      <td>PUGET SOUND ENERGY INC</td>\n",
       "      <td>5.306701e+10</td>\n",
       "    </tr>\n",
       "  </tbody>\n",
       "</table>\n",
       "</div>"
      ],
      "text/plain": [
       "   VIN (1-10)    County     City State  Postal Code  Model Year     Make  \\\n",
       "0  5YJ3E1EBXK      King  Seattle    WA      98178.0        2019    TESLA   \n",
       "1  5YJYGDEE3L    Kitsap  Poulsbo    WA      98370.0        2020    TESLA   \n",
       "2  KM8KRDAF5P    Kitsap   Olalla    WA      98359.0        2023  HYUNDAI   \n",
       "3  5UXTA6C0XM    Kitsap  Seabeck    WA      98380.0        2021      BMW   \n",
       "4  JTMAB3FV7P  Thurston  Rainier    WA      98576.0        2023   TOYOTA   \n",
       "\n",
       "        Model                   Electric Vehicle Type  \\\n",
       "0     MODEL 3          Battery Electric Vehicle (BEV)   \n",
       "1     MODEL Y          Battery Electric Vehicle (BEV)   \n",
       "2     IONIQ 5          Battery Electric Vehicle (BEV)   \n",
       "3          X5  Plug-in Hybrid Electric Vehicle (PHEV)   \n",
       "4  RAV4 PRIME  Plug-in Hybrid Electric Vehicle (PHEV)   \n",
       "\n",
       "   Clean Alternative Fuel Vehicle (CAFV) Eligibility  Electric Range  \\\n",
       "0            Clean Alternative Fuel Vehicle Eligible           220.0   \n",
       "1            Clean Alternative Fuel Vehicle Eligible           291.0   \n",
       "2  Eligibility unknown as battery range has not b...             0.0   \n",
       "3            Clean Alternative Fuel Vehicle Eligible            30.0   \n",
       "4            Clean Alternative Fuel Vehicle Eligible            42.0   \n",
       "\n",
       "   Base MSRP  Legislative District  DOL Vehicle ID  \\\n",
       "0        0.0                  37.0       477309682   \n",
       "1        0.0                  23.0       109705683   \n",
       "2        0.0                  26.0       230390492   \n",
       "3        0.0                  35.0       267929112   \n",
       "4        0.0                   2.0       236505139   \n",
       "\n",
       "              Vehicle Location                              Electric Utility  \\\n",
       "0  POINT (-122.23825 47.49461)  CITY OF SEATTLE - (WA)|CITY OF TACOMA - (WA)   \n",
       "1  POINT (-122.64681 47.73689)                        PUGET SOUND ENERGY INC   \n",
       "2  POINT (-122.54729 47.42602)                        PUGET SOUND ENERGY INC   \n",
       "3  POINT (-122.81585 47.64509)                        PUGET SOUND ENERGY INC   \n",
       "4  POINT (-122.68993 46.88897)                        PUGET SOUND ENERGY INC   \n",
       "\n",
       "   2020 Census Tract  \n",
       "0       5.303301e+10  \n",
       "1       5.303509e+10  \n",
       "2       5.303509e+10  \n",
       "3       5.303509e+10  \n",
       "4       5.306701e+10  "
      ]
     },
     "execution_count": 3,
     "metadata": {},
     "output_type": "execute_result"
    }
   ],
   "source": [
    "df=pd.read_csv('Electric_Vehicle_Population_Data.csv')\n",
    "df.head()"
   ]
  },
  {
   "cell_type": "code",
   "execution_count": 4,
   "id": "2ecb933a",
   "metadata": {},
   "outputs": [
    {
     "data": {
      "text/plain": [
       "(235692, 17)"
      ]
     },
     "execution_count": 4,
     "metadata": {},
     "output_type": "execute_result"
    }
   ],
   "source": [
    "df.shape"
   ]
  },
  {
   "cell_type": "code",
   "execution_count": 5,
   "id": "5c2797f8",
   "metadata": {},
   "outputs": [
    {
     "data": {
      "text/html": [
       "<div>\n",
       "<style scoped>\n",
       "    .dataframe tbody tr th:only-of-type {\n",
       "        vertical-align: middle;\n",
       "    }\n",
       "\n",
       "    .dataframe tbody tr th {\n",
       "        vertical-align: top;\n",
       "    }\n",
       "\n",
       "    .dataframe thead th {\n",
       "        text-align: right;\n",
       "    }\n",
       "</style>\n",
       "<table border=\"1\" class=\"dataframe\">\n",
       "  <thead>\n",
       "    <tr style=\"text-align: right;\">\n",
       "      <th></th>\n",
       "      <th>VIN (1-10)</th>\n",
       "      <th>County</th>\n",
       "      <th>City</th>\n",
       "      <th>State</th>\n",
       "      <th>Postal Code</th>\n",
       "      <th>Model Year</th>\n",
       "      <th>Make</th>\n",
       "      <th>Model</th>\n",
       "      <th>Electric Vehicle Type</th>\n",
       "      <th>Clean Alternative Fuel Vehicle (CAFV) Eligibility</th>\n",
       "      <th>Electric Range</th>\n",
       "      <th>Base MSRP</th>\n",
       "      <th>Legislative District</th>\n",
       "      <th>DOL Vehicle ID</th>\n",
       "      <th>Vehicle Location</th>\n",
       "      <th>Electric Utility</th>\n",
       "      <th>2020 Census Tract</th>\n",
       "    </tr>\n",
       "  </thead>\n",
       "  <tbody>\n",
       "    <tr>\n",
       "      <th>235687</th>\n",
       "      <td>1C4RJXN62R</td>\n",
       "      <td>Pierce</td>\n",
       "      <td>Tacoma</td>\n",
       "      <td>WA</td>\n",
       "      <td>98407.0</td>\n",
       "      <td>2024</td>\n",
       "      <td>JEEP</td>\n",
       "      <td>WRANGLER</td>\n",
       "      <td>Plug-in Hybrid Electric Vehicle (PHEV)</td>\n",
       "      <td>Not eligible due to low battery range</td>\n",
       "      <td>21.0</td>\n",
       "      <td>0.0</td>\n",
       "      <td>27.0</td>\n",
       "      <td>267004272</td>\n",
       "      <td>POINT (-122.51134 47.29238)</td>\n",
       "      <td>BONNEVILLE POWER ADMINISTRATION||CITY OF TACOM...</td>\n",
       "      <td>5.305306e+10</td>\n",
       "    </tr>\n",
       "    <tr>\n",
       "      <th>235688</th>\n",
       "      <td>5YJSA1E28J</td>\n",
       "      <td>Snohomish</td>\n",
       "      <td>Stanwood</td>\n",
       "      <td>WA</td>\n",
       "      <td>98292.0</td>\n",
       "      <td>2018</td>\n",
       "      <td>TESLA</td>\n",
       "      <td>MODEL S</td>\n",
       "      <td>Battery Electric Vehicle (BEV)</td>\n",
       "      <td>Clean Alternative Fuel Vehicle Eligible</td>\n",
       "      <td>249.0</td>\n",
       "      <td>0.0</td>\n",
       "      <td>10.0</td>\n",
       "      <td>198794410</td>\n",
       "      <td>POINT (-122.37265 48.24159)</td>\n",
       "      <td>BONNEVILLE POWER ADMINISTRATION||PUD 1 OF SNOH...</td>\n",
       "      <td>5.306105e+10</td>\n",
       "    </tr>\n",
       "    <tr>\n",
       "      <th>235689</th>\n",
       "      <td>3FA6P0SU2F</td>\n",
       "      <td>King</td>\n",
       "      <td>Redmond</td>\n",
       "      <td>WA</td>\n",
       "      <td>98052.0</td>\n",
       "      <td>2015</td>\n",
       "      <td>FORD</td>\n",
       "      <td>FUSION</td>\n",
       "      <td>Plug-in Hybrid Electric Vehicle (PHEV)</td>\n",
       "      <td>Not eligible due to low battery range</td>\n",
       "      <td>19.0</td>\n",
       "      <td>0.0</td>\n",
       "      <td>48.0</td>\n",
       "      <td>261742288</td>\n",
       "      <td>POINT (-122.13158 47.67858)</td>\n",
       "      <td>PUGET SOUND ENERGY INC||CITY OF TACOMA - (WA)</td>\n",
       "      <td>5.303303e+10</td>\n",
       "    </tr>\n",
       "    <tr>\n",
       "      <th>235690</th>\n",
       "      <td>WA1BCBFZ6P</td>\n",
       "      <td>Snohomish</td>\n",
       "      <td>Lake Stevens</td>\n",
       "      <td>WA</td>\n",
       "      <td>98258.0</td>\n",
       "      <td>2023</td>\n",
       "      <td>AUDI</td>\n",
       "      <td>Q4</td>\n",
       "      <td>Battery Electric Vehicle (BEV)</td>\n",
       "      <td>Eligibility unknown as battery range has not b...</td>\n",
       "      <td>0.0</td>\n",
       "      <td>0.0</td>\n",
       "      <td>44.0</td>\n",
       "      <td>253474854</td>\n",
       "      <td>POINT (-122.06402 48.01497)</td>\n",
       "      <td>PUGET SOUND ENERGY INC</td>\n",
       "      <td>5.306105e+10</td>\n",
       "    </tr>\n",
       "    <tr>\n",
       "      <th>235691</th>\n",
       "      <td>WBY33AW03P</td>\n",
       "      <td>King</td>\n",
       "      <td>Issaquah</td>\n",
       "      <td>WA</td>\n",
       "      <td>98027.0</td>\n",
       "      <td>2023</td>\n",
       "      <td>BMW</td>\n",
       "      <td>I4</td>\n",
       "      <td>Battery Electric Vehicle (BEV)</td>\n",
       "      <td>Eligibility unknown as battery range has not b...</td>\n",
       "      <td>0.0</td>\n",
       "      <td>0.0</td>\n",
       "      <td>5.0</td>\n",
       "      <td>229583490</td>\n",
       "      <td>POINT (-122.03439 47.5301)</td>\n",
       "      <td>PUGET SOUND ENERGY INC||CITY OF TACOMA - (WA)</td>\n",
       "      <td>5.303303e+10</td>\n",
       "    </tr>\n",
       "  </tbody>\n",
       "</table>\n",
       "</div>"
      ],
      "text/plain": [
       "        VIN (1-10)     County          City State  Postal Code  Model Year  \\\n",
       "235687  1C4RJXN62R     Pierce        Tacoma    WA      98407.0        2024   \n",
       "235688  5YJSA1E28J  Snohomish      Stanwood    WA      98292.0        2018   \n",
       "235689  3FA6P0SU2F       King       Redmond    WA      98052.0        2015   \n",
       "235690  WA1BCBFZ6P  Snohomish  Lake Stevens    WA      98258.0        2023   \n",
       "235691  WBY33AW03P       King      Issaquah    WA      98027.0        2023   \n",
       "\n",
       "         Make     Model                   Electric Vehicle Type  \\\n",
       "235687   JEEP  WRANGLER  Plug-in Hybrid Electric Vehicle (PHEV)   \n",
       "235688  TESLA   MODEL S          Battery Electric Vehicle (BEV)   \n",
       "235689   FORD    FUSION  Plug-in Hybrid Electric Vehicle (PHEV)   \n",
       "235690   AUDI        Q4          Battery Electric Vehicle (BEV)   \n",
       "235691    BMW        I4          Battery Electric Vehicle (BEV)   \n",
       "\n",
       "        Clean Alternative Fuel Vehicle (CAFV) Eligibility  Electric Range  \\\n",
       "235687              Not eligible due to low battery range            21.0   \n",
       "235688            Clean Alternative Fuel Vehicle Eligible           249.0   \n",
       "235689              Not eligible due to low battery range            19.0   \n",
       "235690  Eligibility unknown as battery range has not b...             0.0   \n",
       "235691  Eligibility unknown as battery range has not b...             0.0   \n",
       "\n",
       "        Base MSRP  Legislative District  DOL Vehicle ID  \\\n",
       "235687        0.0                  27.0       267004272   \n",
       "235688        0.0                  10.0       198794410   \n",
       "235689        0.0                  48.0       261742288   \n",
       "235690        0.0                  44.0       253474854   \n",
       "235691        0.0                   5.0       229583490   \n",
       "\n",
       "                   Vehicle Location  \\\n",
       "235687  POINT (-122.51134 47.29238)   \n",
       "235688  POINT (-122.37265 48.24159)   \n",
       "235689  POINT (-122.13158 47.67858)   \n",
       "235690  POINT (-122.06402 48.01497)   \n",
       "235691   POINT (-122.03439 47.5301)   \n",
       "\n",
       "                                         Electric Utility  2020 Census Tract  \n",
       "235687  BONNEVILLE POWER ADMINISTRATION||CITY OF TACOM...       5.305306e+10  \n",
       "235688  BONNEVILLE POWER ADMINISTRATION||PUD 1 OF SNOH...       5.306105e+10  \n",
       "235689      PUGET SOUND ENERGY INC||CITY OF TACOMA - (WA)       5.303303e+10  \n",
       "235690                             PUGET SOUND ENERGY INC       5.306105e+10  \n",
       "235691      PUGET SOUND ENERGY INC||CITY OF TACOMA - (WA)       5.303303e+10  "
      ]
     },
     "execution_count": 5,
     "metadata": {},
     "output_type": "execute_result"
    }
   ],
   "source": [
    "df.tail()"
   ]
  },
  {
   "cell_type": "code",
   "execution_count": 6,
   "id": "5e0c0a92",
   "metadata": {},
   "outputs": [
    {
     "data": {
      "text/plain": [
       "Index(['VIN (1-10)', 'County', 'City', 'State', 'Postal Code', 'Model Year',\n",
       "       'Make', 'Model', 'Electric Vehicle Type',\n",
       "       'Clean Alternative Fuel Vehicle (CAFV) Eligibility', 'Electric Range',\n",
       "       'Base MSRP', 'Legislative District', 'DOL Vehicle ID',\n",
       "       'Vehicle Location', 'Electric Utility', '2020 Census Tract'],\n",
       "      dtype='object')"
      ]
     },
     "execution_count": 6,
     "metadata": {},
     "output_type": "execute_result"
    }
   ],
   "source": [
    "df.columns"
   ]
  },
  {
   "cell_type": "code",
   "execution_count": 7,
   "id": "41a3a843",
   "metadata": {},
   "outputs": [
    {
     "data": {
      "text/html": [
       "<div>\n",
       "<style scoped>\n",
       "    .dataframe tbody tr th:only-of-type {\n",
       "        vertical-align: middle;\n",
       "    }\n",
       "\n",
       "    .dataframe tbody tr th {\n",
       "        vertical-align: top;\n",
       "    }\n",
       "\n",
       "    .dataframe thead th {\n",
       "        text-align: right;\n",
       "    }\n",
       "</style>\n",
       "<table border=\"1\" class=\"dataframe\">\n",
       "  <thead>\n",
       "    <tr style=\"text-align: right;\">\n",
       "      <th></th>\n",
       "      <th>Postal Code</th>\n",
       "      <th>Model Year</th>\n",
       "      <th>Electric Range</th>\n",
       "      <th>Base MSRP</th>\n",
       "      <th>Legislative District</th>\n",
       "      <th>DOL Vehicle ID</th>\n",
       "      <th>2020 Census Tract</th>\n",
       "    </tr>\n",
       "  </thead>\n",
       "  <tbody>\n",
       "    <tr>\n",
       "      <th>count</th>\n",
       "      <td>235689.000000</td>\n",
       "      <td>235692.000000</td>\n",
       "      <td>235656.000000</td>\n",
       "      <td>235656.000000</td>\n",
       "      <td>235198.000000</td>\n",
       "      <td>2.356920e+05</td>\n",
       "      <td>2.356890e+05</td>\n",
       "    </tr>\n",
       "    <tr>\n",
       "      <th>mean</th>\n",
       "      <td>98177.656463</td>\n",
       "      <td>2021.406658</td>\n",
       "      <td>46.262569</td>\n",
       "      <td>787.268328</td>\n",
       "      <td>28.879519</td>\n",
       "      <td>2.353127e+08</td>\n",
       "      <td>5.298066e+10</td>\n",
       "    </tr>\n",
       "    <tr>\n",
       "      <th>std</th>\n",
       "      <td>2524.218661</td>\n",
       "      <td>2.991908</td>\n",
       "      <td>84.045829</td>\n",
       "      <td>7177.668305</td>\n",
       "      <td>14.904644</td>\n",
       "      <td>6.799098e+07</td>\n",
       "      <td>1.521066e+09</td>\n",
       "    </tr>\n",
       "    <tr>\n",
       "      <th>min</th>\n",
       "      <td>1731.000000</td>\n",
       "      <td>2000.000000</td>\n",
       "      <td>0.000000</td>\n",
       "      <td>0.000000</td>\n",
       "      <td>1.000000</td>\n",
       "      <td>4.385000e+03</td>\n",
       "      <td>1.001020e+09</td>\n",
       "    </tr>\n",
       "    <tr>\n",
       "      <th>25%</th>\n",
       "      <td>98052.000000</td>\n",
       "      <td>2020.000000</td>\n",
       "      <td>0.000000</td>\n",
       "      <td>0.000000</td>\n",
       "      <td>17.000000</td>\n",
       "      <td>2.053457e+08</td>\n",
       "      <td>5.303301e+10</td>\n",
       "    </tr>\n",
       "    <tr>\n",
       "      <th>50%</th>\n",
       "      <td>98126.000000</td>\n",
       "      <td>2023.000000</td>\n",
       "      <td>0.000000</td>\n",
       "      <td>0.000000</td>\n",
       "      <td>32.000000</td>\n",
       "      <td>2.522795e+08</td>\n",
       "      <td>5.303303e+10</td>\n",
       "    </tr>\n",
       "    <tr>\n",
       "      <th>75%</th>\n",
       "      <td>98374.000000</td>\n",
       "      <td>2024.000000</td>\n",
       "      <td>38.000000</td>\n",
       "      <td>0.000000</td>\n",
       "      <td>42.000000</td>\n",
       "      <td>2.696401e+08</td>\n",
       "      <td>5.305307e+10</td>\n",
       "    </tr>\n",
       "    <tr>\n",
       "      <th>max</th>\n",
       "      <td>99577.000000</td>\n",
       "      <td>2025.000000</td>\n",
       "      <td>337.000000</td>\n",
       "      <td>845000.000000</td>\n",
       "      <td>49.000000</td>\n",
       "      <td>4.792548e+08</td>\n",
       "      <td>5.602100e+10</td>\n",
       "    </tr>\n",
       "  </tbody>\n",
       "</table>\n",
       "</div>"
      ],
      "text/plain": [
       "         Postal Code     Model Year  Electric Range      Base MSRP  \\\n",
       "count  235689.000000  235692.000000   235656.000000  235656.000000   \n",
       "mean    98177.656463    2021.406658       46.262569     787.268328   \n",
       "std      2524.218661       2.991908       84.045829    7177.668305   \n",
       "min      1731.000000    2000.000000        0.000000       0.000000   \n",
       "25%     98052.000000    2020.000000        0.000000       0.000000   \n",
       "50%     98126.000000    2023.000000        0.000000       0.000000   \n",
       "75%     98374.000000    2024.000000       38.000000       0.000000   \n",
       "max     99577.000000    2025.000000      337.000000  845000.000000   \n",
       "\n",
       "       Legislative District  DOL Vehicle ID  2020 Census Tract  \n",
       "count         235198.000000    2.356920e+05       2.356890e+05  \n",
       "mean              28.879519    2.353127e+08       5.298066e+10  \n",
       "std               14.904644    6.799098e+07       1.521066e+09  \n",
       "min                1.000000    4.385000e+03       1.001020e+09  \n",
       "25%               17.000000    2.053457e+08       5.303301e+10  \n",
       "50%               32.000000    2.522795e+08       5.303303e+10  \n",
       "75%               42.000000    2.696401e+08       5.305307e+10  \n",
       "max               49.000000    4.792548e+08       5.602100e+10  "
      ]
     },
     "execution_count": 7,
     "metadata": {},
     "output_type": "execute_result"
    }
   ],
   "source": [
    "df.describe()"
   ]
  },
  {
   "cell_type": "code",
   "execution_count": 8,
   "id": "704b7088",
   "metadata": {},
   "outputs": [
    {
     "data": {
      "text/plain": [
       "Electric Range\n",
       "0.0      139761\n",
       "215.0      6403\n",
       "32.0       5417\n",
       "25.0       4668\n",
       "21.0       4574\n",
       "          ...  \n",
       "51.0          5\n",
       "11.0          4\n",
       "95.0          3\n",
       "57.0          2\n",
       "45.0          1\n",
       "Name: count, Length: 109, dtype: int64"
      ]
     },
     "execution_count": 8,
     "metadata": {},
     "output_type": "execute_result"
    }
   ],
   "source": [
    "df['Electric Range'].value_counts()"
   ]
  },
  {
   "cell_type": "code",
   "execution_count": 9,
   "id": "ebf6d821",
   "metadata": {},
   "outputs": [],
   "source": [
    "df= df[df['Electric Range'] != 0.0]"
   ]
  },
  {
   "cell_type": "code",
   "execution_count": 10,
   "id": "e5a5b14e",
   "metadata": {},
   "outputs": [
    {
     "data": {
      "text/plain": [
       "(95931, 17)"
      ]
     },
     "execution_count": 10,
     "metadata": {},
     "output_type": "execute_result"
    }
   ],
   "source": [
    "df.shape"
   ]
  },
  {
   "cell_type": "code",
   "execution_count": 11,
   "id": "ed13cb8e",
   "metadata": {},
   "outputs": [
    {
     "data": {
      "text/plain": [
       "VIN (1-10)                                            object\n",
       "County                                                object\n",
       "City                                                  object\n",
       "State                                                 object\n",
       "Postal Code                                          float64\n",
       "Model Year                                             int64\n",
       "Make                                                  object\n",
       "Model                                                 object\n",
       "Electric Vehicle Type                                 object\n",
       "Clean Alternative Fuel Vehicle (CAFV) Eligibility     object\n",
       "Electric Range                                       float64\n",
       "Base MSRP                                            float64\n",
       "Legislative District                                 float64\n",
       "DOL Vehicle ID                                         int64\n",
       "Vehicle Location                                      object\n",
       "Electric Utility                                      object\n",
       "2020 Census Tract                                    float64\n",
       "dtype: object"
      ]
     },
     "execution_count": 11,
     "metadata": {},
     "output_type": "execute_result"
    }
   ],
   "source": [
    "df.dtypes"
   ]
  },
  {
   "cell_type": "code",
   "execution_count": 12,
   "id": "e0ae0ef1",
   "metadata": {},
   "outputs": [
    {
     "name": "stdout",
     "output_type": "stream",
     "text": [
      "<class 'pandas.core.frame.DataFrame'>\n",
      "Index: 95931 entries, 0 to 235689\n",
      "Data columns (total 17 columns):\n",
      " #   Column                                             Non-Null Count  Dtype  \n",
      "---  ------                                             --------------  -----  \n",
      " 0   VIN (1-10)                                         95931 non-null  object \n",
      " 1   County                                             95929 non-null  object \n",
      " 2   City                                               95929 non-null  object \n",
      " 3   State                                              95931 non-null  object \n",
      " 4   Postal Code                                        95929 non-null  float64\n",
      " 5   Model Year                                         95931 non-null  int64  \n",
      " 6   Make                                               95931 non-null  object \n",
      " 7   Model                                              95931 non-null  object \n",
      " 8   Electric Vehicle Type                              95931 non-null  object \n",
      " 9   Clean Alternative Fuel Vehicle (CAFV) Eligibility  95931 non-null  object \n",
      " 10  Electric Range                                     95895 non-null  float64\n",
      " 11  Base MSRP                                          95895 non-null  float64\n",
      " 12  Legislative District                               95693 non-null  float64\n",
      " 13  DOL Vehicle ID                                     95931 non-null  int64  \n",
      " 14  Vehicle Location                                   95926 non-null  object \n",
      " 15  Electric Utility                                   95929 non-null  object \n",
      " 16  2020 Census Tract                                  95929 non-null  float64\n",
      "dtypes: float64(5), int64(2), object(10)\n",
      "memory usage: 13.2+ MB\n"
     ]
    }
   ],
   "source": [
    "df.info()"
   ]
  },
  {
   "cell_type": "code",
   "execution_count": 13,
   "id": "68682ada",
   "metadata": {},
   "outputs": [
    {
     "data": {
      "text/plain": [
       "VIN (1-10)                                            7599\n",
       "County                                                 154\n",
       "City                                                   619\n",
       "State                                                   41\n",
       "Postal Code                                            740\n",
       "Model Year                                              20\n",
       "Make                                                    36\n",
       "Model                                                  102\n",
       "Electric Vehicle Type                                    2\n",
       "Clean Alternative Fuel Vehicle (CAFV) Eligibility        2\n",
       "Electric Range                                         108\n",
       "Base MSRP                                               31\n",
       "Legislative District                                    49\n",
       "DOL Vehicle ID                                       95931\n",
       "Vehicle Location                                       739\n",
       "Electric Utility                                        73\n",
       "2020 Census Tract                                     1988\n",
       "dtype: int64"
      ]
     },
     "execution_count": 13,
     "metadata": {},
     "output_type": "execute_result"
    }
   ],
   "source": [
    "df.nunique()"
   ]
  },
  {
   "cell_type": "code",
   "execution_count": 14,
   "id": "0d1a871a",
   "metadata": {},
   "outputs": [
    {
     "data": {
      "text/plain": [
       "(95931, 17)"
      ]
     },
     "execution_count": 14,
     "metadata": {},
     "output_type": "execute_result"
    }
   ],
   "source": [
    "df.drop_duplicates()\n",
    "df.shape"
   ]
  },
  {
   "cell_type": "code",
   "execution_count": 15,
   "id": "ac108839",
   "metadata": {},
   "outputs": [],
   "source": [
    "df.rename(columns={'Clean Alternative Fuel Vehicle (CAFV) Eligibility': 'CAFV Eligibility'}, inplace=True)"
   ]
  },
  {
   "cell_type": "code",
   "execution_count": 16,
   "id": "c184d954",
   "metadata": {},
   "outputs": [],
   "source": [
    "df.drop(columns=['DOL Vehicle ID'],axis=1,inplace=True)"
   ]
  },
  {
   "cell_type": "markdown",
   "id": "88438810",
   "metadata": {},
   "source": [
    "##### Top 15 Brands"
   ]
  },
  {
   "cell_type": "code",
   "execution_count": 17,
   "id": "f11024ab",
   "metadata": {},
   "outputs": [
    {
     "name": "stderr",
     "output_type": "stream",
     "text": [
      "C:\\Users\\anjuc\\AppData\\Local\\Temp\\ipykernel_23944\\2927176844.py:2: FutureWarning: \n",
      "\n",
      "Passing `palette` without assigning `hue` is deprecated and will be removed in v0.14.0. Assign the `y` variable to `hue` and set `legend=False` for the same effect.\n",
      "\n",
      "  sns.barplot(x=df['Make'].value_counts().head(15).values,\n"
     ]
    },
    {
     "data": {
      "image/png": "[encoded data removed]",
      "text/plain": [
       "<Figure size 640x480 with 1 Axes>"
      ]
     },
     "metadata": {},
     "output_type": "display_data"
    }
   ],
   "source": [
    "plt.figure()\n",
    "sns.barplot(x=df['Make'].value_counts().head(15).values,\n",
    "            y=df['Make'].value_counts().head(15).index,\n",
    "            palette=\"viridis\")\n",
    "plt.title(\"Top 15 Electric Vehicle Brands\")\n",
    "plt.xlabel(\"Count\")\n",
    "plt.ylabel(\"Brand\")\n",
    "plt.show()"
   ]
  },
  {
   "cell_type": "markdown",
   "id": "8da5e728",
   "metadata": {},
   "source": [
    "##### CAFV DISTRIBUTION"
   ]
  },
  {
   "cell_type": "code",
   "execution_count": 18,
   "id": "d7071762",
   "metadata": {},
   "outputs": [
    {
     "data": {
      "text/plain": [
       "CAFV Eligibility\n",
       "Clean Alternative Fuel Vehicle Eligible    73317\n",
       "Not eligible due to low battery range      22614\n",
       "Name: count, dtype: int64"
      ]
     },
     "execution_count": 18,
     "metadata": {},
     "output_type": "execute_result"
    }
   ],
   "source": [
    "cafv=df['CAFV Eligibility'].value_counts()\n",
    "cafv"
   ]
  },
  {
   "cell_type": "code",
   "execution_count": 19,
   "id": "cade0214",
   "metadata": {},
   "outputs": [
    {
     "data": {
      "text/plain": [
       "<Axes: xlabel='CAFV Eligibility', ylabel='count'>"
      ]
     },
     "execution_count": 19,
     "metadata": {},
     "output_type": "execute_result"
    },
    {
     "data": {
      "image/png": "[encoded data removed]",
      "text/plain": [
       "<Figure size 640x480 with 1 Axes>"
      ]
     },
     "metadata": {},
     "output_type": "display_data"
    }
   ],
   "source": [
    "sns.countplot(x=df['CAFV Eligibility'],data=df)"
   ]
  },
  {
   "cell_type": "markdown",
   "id": "3b71c2a5",
   "metadata": {},
   "source": [
    "##### Top 10 EV Models"
   ]
  },
  {
   "cell_type": "code",
   "execution_count": 20,
   "id": "2a79c46d",
   "metadata": {},
   "outputs": [
    {
     "data": {
      "image/png": "[encoded data removed]",
      "text/plain": [
       "<Figure size 640x480 with 1 Axes>"
      ]
     },
     "metadata": {},
     "output_type": "display_data"
    }
   ],
   "source": [
    "top_models = df['Model'].value_counts().head(10)\n",
    "top_models.plot(kind='bar', color='salmon')\n",
    "plt.title(\"Top 10 EV Models\")\n",
    "plt.xlabel(\"Model\")\n",
    "plt.ylabel(\"Number of Vehicles\")\n",
    "plt.xticks(rotation=45)\n",
    "plt.tight_layout()\n",
    "plt.show()"
   ]
  },
  {
   "cell_type": "markdown",
   "id": "fb2813b5",
   "metadata": {},
   "source": [
    "##### Top 20 Cities"
   ]
  },
  {
   "cell_type": "code",
   "execution_count": 21,
   "id": "9a810be2",
   "metadata": {},
   "outputs": [
    {
     "name": "stderr",
     "output_type": "stream",
     "text": [
      "C:\\Users\\anjuc\\AppData\\Local\\Temp\\ipykernel_23944\\12016700.py:2: FutureWarning: \n",
      "\n",
      "Passing `palette` without assigning `hue` is deprecated and will be removed in v0.14.0. Assign the `y` variable to `hue` and set `legend=False` for the same effect.\n",
      "\n",
      "  sns.barplot(x=df['City'].value_counts().head(20).values,\n"
     ]
    },
    {
     "data": {
      "image/png": "[encoded data removed]",
      "text/plain": [
       "<Figure size 1000x800 with 1 Axes>"
      ]
     },
     "metadata": {},
     "output_type": "display_data"
    }
   ],
   "source": [
    "plt.figure(figsize=(10, 8))\n",
    "sns.barplot(x=df['City'].value_counts().head(20).values,\n",
    "            y=df['City'].value_counts().head(20).index,\n",
    "            palette='cubehelix')\n",
    "plt.title(\"Top 20 Cities with Most EVs\")\n",
    "plt.xlabel(\"Count\")\n",
    "plt.ylabel(\"City\")\n",
    "plt.show()"
   ]
  },
  {
   "cell_type": "markdown",
   "id": "f8d8c864",
   "metadata": {},
   "source": [
    "##### EV Type Distribution"
   ]
  },
  {
   "cell_type": "code",
   "execution_count": 22,
   "id": "cae4aa4a",
   "metadata": {},
   "outputs": [
    {
     "name": "stderr",
     "output_type": "stream",
     "text": [
      "C:\\Users\\anjuc\\AppData\\Local\\Temp\\ipykernel_23944\\3731445514.py:2: FutureWarning: \n",
      "\n",
      "Passing `palette` without assigning `hue` is deprecated and will be removed in v0.14.0. Assign the `x` variable to `hue` and set `legend=False` for the same effect.\n",
      "\n",
      "  sns.countplot(x='Electric Vehicle Type', data=df,palette='coolwarm')\n"
     ]
    },
    {
     "data": {
      "image/png": "[encoded data removed]",
      "text/plain": [
       "<Figure size 640x480 with 1 Axes>"
      ]
     },
     "metadata": {},
     "output_type": "display_data"
    }
   ],
   "source": [
    "plt.figure()\n",
    "sns.countplot(x='Electric Vehicle Type', data=df,palette='coolwarm')\n",
    "plt.title(\"EV Type Distribution\")\n",
    "plt.xlabel(\"Count\")\n",
    "plt.ylabel(\"Type\")\n",
    "plt.show()"
   ]
  },
  {
   "cell_type": "markdown",
   "id": "821d6c95",
   "metadata": {},
   "source": [
    "##### EV Growth by Year"
   ]
  },
  {
   "cell_type": "code",
   "execution_count": 23,
   "id": "be82814f",
   "metadata": {},
   "outputs": [
    {
     "data": {
      "image/png": "[encoded data removed]",
      "text/plain": [
       "<Figure size 640x480 with 1 Axes>"
      ]
     },
     "metadata": {},
     "output_type": "display_data"
    }
   ],
   "source": [
    "plt.figure()\n",
    "sns.histplot(df['Model Year'], bins=30, kde=True, color='teal')\n",
    "plt.title(\"EV Growth by Model Year\")\n",
    "plt.xlabel(\"Model Year\")\n",
    "plt.ylabel(\"Count\")\n",
    "plt.show()"
   ]
  },
  {
   "cell_type": "code",
   "execution_count": 24,
   "id": "eacdfa3b",
   "metadata": {},
   "outputs": [
    {
     "data": {
      "text/plain": [
       "VIN (1-10)                 0\n",
       "County                     2\n",
       "City                       2\n",
       "State                      0\n",
       "Postal Code                2\n",
       "Model Year                 0\n",
       "Make                       0\n",
       "Model                      0\n",
       "Electric Vehicle Type      0\n",
       "CAFV Eligibility           0\n",
       "Electric Range            36\n",
       "Base MSRP                 36\n",
       "Legislative District     238\n",
       "Vehicle Location           5\n",
       "Electric Utility           2\n",
       "2020 Census Tract          2\n",
       "dtype: int64"
      ]
     },
     "execution_count": 24,
     "metadata": {},
     "output_type": "execute_result"
    }
   ],
   "source": [
    "df.isna().sum()"
   ]
  },
  {
   "cell_type": "code",
   "execution_count": 25,
   "id": "1115e3bf",
   "metadata": {},
   "outputs": [],
   "source": [
    "columns_drop_missing=['Electric Range','County','City','Postal Code','Vehicle Location']\n",
    "df = df.dropna(subset=columns_drop_missing)"
   ]
  },
  {
   "cell_type": "code",
   "execution_count": 26,
   "id": "685af58f",
   "metadata": {},
   "outputs": [
    {
     "data": {
      "text/plain": [
       "VIN (1-10)                 0\n",
       "County                     0\n",
       "City                       0\n",
       "State                      0\n",
       "Postal Code                0\n",
       "Model Year                 0\n",
       "Make                       0\n",
       "Model                      0\n",
       "Electric Vehicle Type      0\n",
       "CAFV Eligibility           0\n",
       "Electric Range             0\n",
       "Base MSRP                  0\n",
       "Legislative District     236\n",
       "Vehicle Location           0\n",
       "Electric Utility           0\n",
       "2020 Census Tract          0\n",
       "dtype: int64"
      ]
     },
     "execution_count": 26,
     "metadata": {},
     "output_type": "execute_result"
    }
   ],
   "source": [
    "df.isna().sum()"
   ]
  },
  {
   "cell_type": "code",
   "execution_count": 27,
   "id": "de1ff762",
   "metadata": {},
   "outputs": [
    {
     "data": {
      "text/plain": [
       "(95890, 16)"
      ]
     },
     "execution_count": 27,
     "metadata": {},
     "output_type": "execute_result"
    }
   ],
   "source": [
    "df.shape"
   ]
  },
  {
   "cell_type": "code",
   "execution_count": 28,
   "id": "7d008893",
   "metadata": {},
   "outputs": [],
   "source": [
    "df['Legislative District']=df['Legislative District'].fillna(df['Legislative District'].mode()[0])"
   ]
  },
  {
   "cell_type": "code",
   "execution_count": 29,
   "id": "e99e3e22",
   "metadata": {},
   "outputs": [
    {
     "data": {
      "text/plain": [
       "VIN (1-10)               0\n",
       "County                   0\n",
       "City                     0\n",
       "State                    0\n",
       "Postal Code              0\n",
       "Model Year               0\n",
       "Make                     0\n",
       "Model                    0\n",
       "Electric Vehicle Type    0\n",
       "CAFV Eligibility         0\n",
       "Electric Range           0\n",
       "Base MSRP                0\n",
       "Legislative District     0\n",
       "Vehicle Location         0\n",
       "Electric Utility         0\n",
       "2020 Census Tract        0\n",
       "dtype: int64"
      ]
     },
     "execution_count": 29,
     "metadata": {},
     "output_type": "execute_result"
    }
   ],
   "source": [
    "df.isna().sum()"
   ]
  },
  {
   "cell_type": "code",
   "execution_count": 30,
   "id": "a3c3209b",
   "metadata": {},
   "outputs": [
    {
     "data": {
      "text/plain": [
       "Base MSRP\n",
       "0.0         92638\n",
       "69900.0      1318\n",
       "31950.0       361\n",
       "52900.0       215\n",
       "32250.0       133\n",
       "59900.0       126\n",
       "54950.0       119\n",
       "39995.0       117\n",
       "36900.0       105\n",
       "44100.0        91\n",
       "64950.0        87\n",
       "45600.0        79\n",
       "52650.0        71\n",
       "33950.0        71\n",
       "34995.0        67\n",
       "55700.0        57\n",
       "36800.0        55\n",
       "53400.0        38\n",
       "98950.0        21\n",
       "110950.0       21\n",
       "81100.0        21\n",
       "90700.0        17\n",
       "75095.0        13\n",
       "102000.0       11\n",
       "184400.0       10\n",
       "43700.0         8\n",
       "109000.0        7\n",
       "89100.0         6\n",
       "91250.0         4\n",
       "32995.0         2\n",
       "845000.0        1\n",
       "Name: count, dtype: int64"
      ]
     },
     "execution_count": 30,
     "metadata": {},
     "output_type": "execute_result"
    }
   ],
   "source": [
    "df['Base MSRP'].value_counts()"
   ]
  },
  {
   "cell_type": "code",
   "execution_count": 31,
   "id": "a3dbcd32",
   "metadata": {},
   "outputs": [],
   "source": [
    "df.drop(columns=['Base MSRP'],axis=True,inplace=True)"
   ]
  },
  {
   "cell_type": "code",
   "execution_count": 32,
   "id": "e9b24b9c",
   "metadata": {},
   "outputs": [
    {
     "data": {
      "text/plain": [
       "Index(['VIN (1-10)', 'County', 'City', 'State', 'Postal Code', 'Model Year',\n",
       "       'Make', 'Model', 'Electric Vehicle Type', 'CAFV Eligibility',\n",
       "       'Electric Range', 'Legislative District', 'Vehicle Location',\n",
       "       'Electric Utility', '2020 Census Tract'],\n",
       "      dtype='object')"
      ]
     },
     "execution_count": 32,
     "metadata": {},
     "output_type": "execute_result"
    }
   ],
   "source": [
    "df.columns"
   ]
  },
  {
   "cell_type": "code",
   "execution_count": 33,
   "id": "8c68e88e",
   "metadata": {},
   "outputs": [
    {
     "data": {
      "image/png": "[encoded data removed]",
      "text/plain": [
       "<Figure size 1500x400 with 3 Axes>"
      ]
     },
     "metadata": {},
     "output_type": "display_data"
    }
   ],
   "source": [
    "numeric_cols = df[['Model Year','Electric Range','2020 Census Tract']]\n",
    "\n",
    "# Set number of plots per row\n",
    "n_cols = 3\n",
    "n_rows = (len(numeric_cols.columns) + n_cols - 1) // n_cols  # calculate rows needed\n",
    "\n",
    "# Create subplots\n",
    "fig, axes = plt.subplots(n_rows, n_cols, figsize=(15, 4 * n_rows))\n",
    "axes = axes.flatten()  # Flatten in case of multiple rows\n",
    "\n",
    "# Plot each numeric column\n",
    "for i, col in enumerate(numeric_cols):\n",
    "    sns.boxplot(x=numeric_cols[col], ax=axes[i],color='skyblue')\n",
    "    axes[i].set_title(f'Boxplot of {col}')\n",
    "\n",
    "\n",
    "plt.tight_layout()\n",
    "plt.show()"
   ]
  },
  {
   "cell_type": "code",
   "execution_count": 34,
   "id": "f7e5c67f",
   "metadata": {},
   "outputs": [
    {
     "data": {
      "text/plain": [
       "2020 Census Tract\n",
       "5.303303e+10    1831\n",
       "5.303303e+10     924\n",
       "5.303301e+10     342\n",
       "5.303303e+10     337\n",
       "5.303301e+10     315\n",
       "                ... \n",
       "5.105943e+10       1\n",
       "4.849715e+10       1\n",
       "6.073015e+09       1\n",
       "2.403170e+10       1\n",
       "3.604506e+10       1\n",
       "Name: count, Length: 1988, dtype: int64"
      ]
     },
     "execution_count": 34,
     "metadata": {},
     "output_type": "execute_result"
    }
   ],
   "source": [
    "df['2020 Census Tract'].value_counts()"
   ]
  },
  {
   "cell_type": "code",
   "execution_count": 35,
   "id": "473feded",
   "metadata": {},
   "outputs": [
    {
     "data": {
      "text/plain": [
       "VIN (1-10)                object\n",
       "County                    object\n",
       "City                      object\n",
       "State                     object\n",
       "Postal Code              float64\n",
       "Model Year                 int64\n",
       "Make                      object\n",
       "Model                     object\n",
       "Electric Vehicle Type     object\n",
       "CAFV Eligibility          object\n",
       "Electric Range           float64\n",
       "Legislative District     float64\n",
       "Vehicle Location          object\n",
       "Electric Utility          object\n",
       "2020 Census Tract        float64\n",
       "dtype: object"
      ]
     },
     "execution_count": 35,
     "metadata": {},
     "output_type": "execute_result"
    }
   ],
   "source": [
    "df.dtypes"
   ]
  },
  {
   "cell_type": "code",
   "execution_count": 36,
   "id": "5616d043",
   "metadata": {},
   "outputs": [
    {
     "data": {
      "text/html": [
       "<div>\n",
       "<style scoped>\n",
       "    .dataframe tbody tr th:only-of-type {\n",
       "        vertical-align: middle;\n",
       "    }\n",
       "\n",
       "    .dataframe tbody tr th {\n",
       "        vertical-align: top;\n",
       "    }\n",
       "\n",
       "    .dataframe thead th {\n",
       "        text-align: right;\n",
       "    }\n",
       "</style>\n",
       "<table border=\"1\" class=\"dataframe\">\n",
       "  <thead>\n",
       "    <tr style=\"text-align: right;\">\n",
       "      <th></th>\n",
       "      <th>Postal Code</th>\n",
       "      <th>Model Year</th>\n",
       "      <th>Electric Range</th>\n",
       "      <th>Legislative District</th>\n",
       "      <th>2020 Census Tract</th>\n",
       "    </tr>\n",
       "  </thead>\n",
       "  <tbody>\n",
       "    <tr>\n",
       "      <th>Postal Code</th>\n",
       "      <td>1.000000</td>\n",
       "      <td>0.003911</td>\n",
       "      <td>-0.006712</td>\n",
       "      <td>-0.085991</td>\n",
       "      <td>0.543163</td>\n",
       "    </tr>\n",
       "    <tr>\n",
       "      <th>Model Year</th>\n",
       "      <td>0.003911</td>\n",
       "      <td>1.000000</td>\n",
       "      <td>-0.193483</td>\n",
       "      <td>-0.064596</td>\n",
       "      <td>0.000761</td>\n",
       "    </tr>\n",
       "    <tr>\n",
       "      <th>Electric Range</th>\n",
       "      <td>-0.006712</td>\n",
       "      <td>-0.193483</td>\n",
       "      <td>1.000000</td>\n",
       "      <td>0.066831</td>\n",
       "      <td>0.001886</td>\n",
       "    </tr>\n",
       "    <tr>\n",
       "      <th>Legislative District</th>\n",
       "      <td>-0.085991</td>\n",
       "      <td>-0.064596</td>\n",
       "      <td>0.066831</td>\n",
       "      <td>1.000000</td>\n",
       "      <td>-0.036551</td>\n",
       "    </tr>\n",
       "    <tr>\n",
       "      <th>2020 Census Tract</th>\n",
       "      <td>0.543163</td>\n",
       "      <td>0.000761</td>\n",
       "      <td>0.001886</td>\n",
       "      <td>-0.036551</td>\n",
       "      <td>1.000000</td>\n",
       "    </tr>\n",
       "  </tbody>\n",
       "</table>\n",
       "</div>"
      ],
      "text/plain": [
       "                      Postal Code  Model Year  Electric Range  \\\n",
       "Postal Code              1.000000    0.003911       -0.006712   \n",
       "Model Year               0.003911    1.000000       -0.193483   \n",
       "Electric Range          -0.006712   -0.193483        1.000000   \n",
       "Legislative District    -0.085991   -0.064596        0.066831   \n",
       "2020 Census Tract        0.543163    0.000761        0.001886   \n",
       "\n",
       "                      Legislative District  2020 Census Tract  \n",
       "Postal Code                      -0.085991           0.543163  \n",
       "Model Year                       -0.064596           0.000761  \n",
       "Electric Range                    0.066831           0.001886  \n",
       "Legislative District              1.000000          -0.036551  \n",
       "2020 Census Tract                -0.036551           1.000000  "
      ]
     },
     "execution_count": 36,
     "metadata": {},
     "output_type": "execute_result"
    }
   ],
   "source": [
    "corr = df.corr(numeric_only=True)\n",
    "corr"
   ]
  },
  {
   "cell_type": "code",
   "execution_count": 37,
   "id": "a9d23422",
   "metadata": {},
   "outputs": [
    {
     "data": {
      "image/png": "[encoded data removed]",
      "text/plain": [
       "<Figure size 640x480 with 2 Axes>"
      ]
     },
     "metadata": {},
     "output_type": "display_data"
    }
   ],
   "source": [
    "sns.heatmap(corr,annot=True, fmt='.2f', cmap='coolwarm', linewidths=0.2)\n",
    "plt.title('Correlation Heatmap')\n",
    "plt.show()"
   ]
  },
  {
   "cell_type": "code",
   "execution_count": 38,
   "id": "813568ce",
   "metadata": {},
   "outputs": [],
   "source": [
    "df.drop(columns=['Model Year','2020 Census Tract','Postal Code'],axis=1,inplace=True)"
   ]
  },
  {
   "cell_type": "code",
   "execution_count": 39,
   "id": "8214ca81",
   "metadata": {},
   "outputs": [
    {
     "data": {
      "text/plain": [
       "array([220., 291.,  30.,  42., 265.,  81.,  22., 215.,  84., 289.,  26.,\n",
       "       233., 208., 114., 210.,  75., 107., 238.,  32.,  25., 293.,  53.,\n",
       "        39.,  82.,  33.,  28., 170.,  93.,  21., 150.,  38.,  16., 125.,\n",
       "        14.,  37.,  47., 149., 151., 266.,  19.,  73., 259.,  23.,  13.,\n",
       "       308.,  97., 192., 322., 258., 249.,  35.,  62.,  18., 239.,  17.,\n",
       "        83., 200., 234.,  40.,  34., 222.,  72., 100.,  68.,  87.,  20.,\n",
       "        54., 126.,   6.,  29.,  15., 103., 270., 288.,  41.,  76.,  58.,\n",
       "        46.,  60., 124., 203., 330.,  48.,  31., 337., 153., 218.,  56.,\n",
       "       204.,   8., 111.,  36.,  10., 110.,  49.,  27.,  59.,  24.,  43.,\n",
       "        12., 245.,  11.,  55.,   9.,  95.,  57.,  51.,  45.])"
      ]
     },
     "execution_count": 39,
     "metadata": {},
     "output_type": "execute_result"
    }
   ],
   "source": [
    "df['Electric Range'].unique()"
   ]
  },
  {
   "cell_type": "code",
   "execution_count": 40,
   "id": "085f7222",
   "metadata": {},
   "outputs": [
    {
     "data": {
      "text/plain": [
       "VIN (1-10)                object\n",
       "County                    object\n",
       "City                      object\n",
       "State                     object\n",
       "Make                      object\n",
       "Model                     object\n",
       "Electric Vehicle Type     object\n",
       "CAFV Eligibility          object\n",
       "Electric Range           float64\n",
       "Legislative District     float64\n",
       "Vehicle Location          object\n",
       "Electric Utility          object\n",
       "dtype: object"
      ]
     },
     "execution_count": 40,
     "metadata": {},
     "output_type": "execute_result"
    }
   ],
   "source": [
    "df.dtypes"
   ]
  },
  {
   "cell_type": "code",
   "execution_count": 41,
   "id": "f2f0395a",
   "metadata": {},
   "outputs": [
    {
     "data": {
      "text/plain": [
       "array([37., 23., 35.,  2., 22., 48., 39., 45., 41., 46., 11., 26.,  5.,\n",
       "       21., 14.,  1., 33., 10., 15., 44., 38., 34., 32., 43., 31., 47.,\n",
       "        6., 13., 12., 36., 40., 16.,  9., 20.,  7.,  3., 24., 49., 17.,\n",
       "       30., 18., 19., 27.,  4., 29., 25., 28., 42.,  8.])"
      ]
     },
     "execution_count": 41,
     "metadata": {},
     "output_type": "execute_result"
    }
   ],
   "source": [
    "df['Legislative District'].unique()"
   ]
  },
  {
   "cell_type": "code",
   "execution_count": 42,
   "id": "5be9b25c",
   "metadata": {},
   "outputs": [
    {
     "name": "stderr",
     "output_type": "stream",
     "text": [
      "c:\\Users\\anjuc\\AppData\\Local\\Programs\\Python\\Python313\\Lib\\site-packages\\scipy\\stats\\_axis_nan_policy.py:586: ConstantInputWarning: Each of the input arrays is constant; the F statistic is not defined or infinite\n",
      "  res = hypotest_fun_out(*samples, **kwds)\n"
     ]
    },
    {
     "name": "stdout",
     "output_type": "stream",
     "text": [
      "                  Feature   F-statistic        p-value\n",
      "0              VIN (1-10)           inf   0.000000e+00\n",
      "2                    City  6.189965e+00   0.000000e+00\n",
      "5                   Model  1.128752e+04   0.000000e+00\n",
      "4                    Make  8.263198e+03   0.000000e+00\n",
      "6   Electric Vehicle Type  2.488307e+05   0.000000e+00\n",
      "7        CAFV Eligibility  3.664619e+04   0.000000e+00\n",
      "9    Legislative District  5.096429e+01   0.000000e+00\n",
      "8          Electric Range           inf   0.000000e+00\n",
      "10       Vehicle Location  6.465802e+00   0.000000e+00\n",
      "11       Electric Utility  9.791902e+00  3.501322e-104\n",
      "1                  County  5.535337e+00   5.214036e-96\n",
      "3                   State  1.072181e+00   3.507224e-01\n"
     ]
    },
    {
     "name": "stderr",
     "output_type": "stream",
     "text": [
      "c:\\Users\\anjuc\\AppData\\Local\\Programs\\Python\\Python313\\Lib\\site-packages\\scipy\\stats\\_axis_nan_policy.py:586: ConstantInputWarning: Each of the input arrays is constant; the F statistic is not defined or infinite\n",
      "  res = hypotest_fun_out(*samples, **kwds)\n"
     ]
    }
   ],
   "source": [
    "\n",
    "categorical_columns=['VIN (1-10)', 'County', 'City', 'State', 'Make', 'Model',\n",
    "       'Electric Vehicle Type','2020 Census Tract','Postal Code',\n",
    "       'Legislative District', 'Vehicle Location']\n",
    "\n",
    "\n",
    "target=df['Electric Range']\n",
    "categorical_columns=df.columns\n",
    "def anova_for_categoricals(df,categorical_columns, target):\n",
    "    results = []\n",
    "\n",
    "    for col in categorical_columns:\n",
    "        try:\n",
    "            # Group target values by each category in the column\n",
    "            groups = [group[target].values for name, group in df.groupby(col)]\n",
    "            \n",
    "            # Apply One-Way ANOVA\n",
    "            f_stat, p_val = f_oneway(*groups)\n",
    "            \n",
    "            results.append({\n",
    "                'Feature': col,\n",
    "                'F-statistic': f_stat,\n",
    "                'p-value': p_val\n",
    "            })\n",
    "        except Exception as e:\n",
    "            results.append({\n",
    "                'Feature': col,\n",
    "                'F-statistic': None,\n",
    "                'p-value': None,\n",
    "            })\n",
    "\n",
    "    return pd.DataFrame(results)\n",
    "\n",
    "\n",
    "anova_results = anova_for_categoricals(df, categorical_columns, target='Electric Range')\n",
    "print(anova_results.sort_values(by='p-value'))"
   ]
  },
  {
   "cell_type": "code",
   "execution_count": 43,
   "id": "1fb684cb",
   "metadata": {},
   "outputs": [
    {
     "data": {
      "text/html": [
       "<div>\n",
       "<style scoped>\n",
       "    .dataframe tbody tr th:only-of-type {\n",
       "        vertical-align: middle;\n",
       "    }\n",
       "\n",
       "    .dataframe tbody tr th {\n",
       "        vertical-align: top;\n",
       "    }\n",
       "\n",
       "    .dataframe thead th {\n",
       "        text-align: right;\n",
       "    }\n",
       "</style>\n",
       "<table border=\"1\" class=\"dataframe\">\n",
       "  <thead>\n",
       "    <tr style=\"text-align: right;\">\n",
       "      <th></th>\n",
       "      <th>Feature</th>\n",
       "      <th>F-statistic</th>\n",
       "      <th>p-value</th>\n",
       "      <th>Significant</th>\n",
       "    </tr>\n",
       "  </thead>\n",
       "  <tbody>\n",
       "    <tr>\n",
       "      <th>0</th>\n",
       "      <td>VIN (1-10)</td>\n",
       "      <td>inf</td>\n",
       "      <td>0.000000e+00</td>\n",
       "      <td>True</td>\n",
       "    </tr>\n",
       "    <tr>\n",
       "      <th>1</th>\n",
       "      <td>County</td>\n",
       "      <td>5.535337e+00</td>\n",
       "      <td>5.214036e-96</td>\n",
       "      <td>True</td>\n",
       "    </tr>\n",
       "    <tr>\n",
       "      <th>2</th>\n",
       "      <td>City</td>\n",
       "      <td>6.189965e+00</td>\n",
       "      <td>0.000000e+00</td>\n",
       "      <td>True</td>\n",
       "    </tr>\n",
       "    <tr>\n",
       "      <th>3</th>\n",
       "      <td>State</td>\n",
       "      <td>1.072181e+00</td>\n",
       "      <td>3.507224e-01</td>\n",
       "      <td>False</td>\n",
       "    </tr>\n",
       "    <tr>\n",
       "      <th>4</th>\n",
       "      <td>Make</td>\n",
       "      <td>8.263198e+03</td>\n",
       "      <td>0.000000e+00</td>\n",
       "      <td>True</td>\n",
       "    </tr>\n",
       "    <tr>\n",
       "      <th>5</th>\n",
       "      <td>Model</td>\n",
       "      <td>1.128752e+04</td>\n",
       "      <td>0.000000e+00</td>\n",
       "      <td>True</td>\n",
       "    </tr>\n",
       "    <tr>\n",
       "      <th>6</th>\n",
       "      <td>Electric Vehicle Type</td>\n",
       "      <td>2.488307e+05</td>\n",
       "      <td>0.000000e+00</td>\n",
       "      <td>True</td>\n",
       "    </tr>\n",
       "    <tr>\n",
       "      <th>7</th>\n",
       "      <td>CAFV Eligibility</td>\n",
       "      <td>3.664619e+04</td>\n",
       "      <td>0.000000e+00</td>\n",
       "      <td>True</td>\n",
       "    </tr>\n",
       "    <tr>\n",
       "      <th>8</th>\n",
       "      <td>Electric Range</td>\n",
       "      <td>inf</td>\n",
       "      <td>0.000000e+00</td>\n",
       "      <td>True</td>\n",
       "    </tr>\n",
       "    <tr>\n",
       "      <th>9</th>\n",
       "      <td>Legislative District</td>\n",
       "      <td>5.096429e+01</td>\n",
       "      <td>0.000000e+00</td>\n",
       "      <td>True</td>\n",
       "    </tr>\n",
       "    <tr>\n",
       "      <th>10</th>\n",
       "      <td>Vehicle Location</td>\n",
       "      <td>6.465802e+00</td>\n",
       "      <td>0.000000e+00</td>\n",
       "      <td>True</td>\n",
       "    </tr>\n",
       "    <tr>\n",
       "      <th>11</th>\n",
       "      <td>Electric Utility</td>\n",
       "      <td>9.791902e+00</td>\n",
       "      <td>3.501322e-104</td>\n",
       "      <td>True</td>\n",
       "    </tr>\n",
       "  </tbody>\n",
       "</table>\n",
       "</div>"
      ],
      "text/plain": [
       "                  Feature   F-statistic        p-value  Significant\n",
       "0              VIN (1-10)           inf   0.000000e+00         True\n",
       "1                  County  5.535337e+00   5.214036e-96         True\n",
       "2                    City  6.189965e+00   0.000000e+00         True\n",
       "3                   State  1.072181e+00   3.507224e-01        False\n",
       "4                    Make  8.263198e+03   0.000000e+00         True\n",
       "5                   Model  1.128752e+04   0.000000e+00         True\n",
       "6   Electric Vehicle Type  2.488307e+05   0.000000e+00         True\n",
       "7        CAFV Eligibility  3.664619e+04   0.000000e+00         True\n",
       "8          Electric Range           inf   0.000000e+00         True\n",
       "9    Legislative District  5.096429e+01   0.000000e+00         True\n",
       "10       Vehicle Location  6.465802e+00   0.000000e+00         True\n",
       "11       Electric Utility  9.791902e+00  3.501322e-104         True"
      ]
     },
     "execution_count": 43,
     "metadata": {},
     "output_type": "execute_result"
    }
   ],
   "source": [
    "anova_results['Significant'] = anova_results['p-value'] < 0.05  # Mark significance\n",
    "anova_results"
   ]
  },
  {
   "cell_type": "code",
   "execution_count": 44,
   "id": "6bfa40ae",
   "metadata": {},
   "outputs": [],
   "source": [
    "df.drop(columns=['State'],axis=1,inplace=True)"
   ]
  },
  {
   "cell_type": "code",
   "execution_count": 45,
   "id": "1722072b",
   "metadata": {},
   "outputs": [
    {
     "data": {
      "text/plain": [
       "VIN (1-10)                object\n",
       "County                    object\n",
       "City                      object\n",
       "Make                      object\n",
       "Model                     object\n",
       "Electric Vehicle Type     object\n",
       "CAFV Eligibility          object\n",
       "Electric Range           float64\n",
       "Legislative District     float64\n",
       "Vehicle Location          object\n",
       "Electric Utility          object\n",
       "dtype: object"
      ]
     },
     "execution_count": 45,
     "metadata": {},
     "output_type": "execute_result"
    }
   ],
   "source": [
    "df.dtypes"
   ]
  },
  {
   "cell_type": "code",
   "execution_count": 46,
   "id": "735bbe17",
   "metadata": {},
   "outputs": [],
   "source": [
    "categorical_features= df.select_dtypes(include=['object']).columns.tolist()\n",
    "for col in categorical_features:\n",
    "    encoder = LabelEncoder()\n",
    "    df[col] =encoder.fit_transform(df[col])"
   ]
  },
  {
   "cell_type": "code",
   "execution_count": 47,
   "id": "0a17035b",
   "metadata": {},
   "outputs": [
    {
     "data": {
      "text/plain": [
       "VIN (1-10)                 int64\n",
       "County                     int64\n",
       "City                       int64\n",
       "Make                       int64\n",
       "Model                      int64\n",
       "Electric Vehicle Type      int64\n",
       "CAFV Eligibility           int64\n",
       "Electric Range           float64\n",
       "Legislative District     float64\n",
       "Vehicle Location           int64\n",
       "Electric Utility           int64\n",
       "dtype: object"
      ]
     },
     "execution_count": 47,
     "metadata": {},
     "output_type": "execute_result"
    }
   ],
   "source": [
    "df.dtypes"
   ]
  },
  {
   "cell_type": "code",
   "execution_count": 50,
   "id": "88882f62",
   "metadata": {},
   "outputs": [
    {
     "data": {
      "text/html": [
       "<div>\n",
       "<style scoped>\n",
       "    .dataframe tbody tr th:only-of-type {\n",
       "        vertical-align: middle;\n",
       "    }\n",
       "\n",
       "    .dataframe tbody tr th {\n",
       "        vertical-align: top;\n",
       "    }\n",
       "\n",
       "    .dataframe thead th {\n",
       "        text-align: right;\n",
       "    }\n",
       "</style>\n",
       "<table border=\"1\" class=\"dataframe\">\n",
       "  <thead>\n",
       "    <tr style=\"text-align: right;\">\n",
       "      <th></th>\n",
       "      <th>VIN (1-10)</th>\n",
       "      <th>County</th>\n",
       "      <th>City</th>\n",
       "      <th>Make</th>\n",
       "      <th>Model</th>\n",
       "      <th>Electric Vehicle Type</th>\n",
       "      <th>CAFV Eligibility</th>\n",
       "      <th>Electric Range</th>\n",
       "      <th>Legislative District</th>\n",
       "      <th>Vehicle Location</th>\n",
       "      <th>Electric Utility</th>\n",
       "    </tr>\n",
       "  </thead>\n",
       "  <tbody>\n",
       "    <tr>\n",
       "      <th>0</th>\n",
       "      <td>2177</td>\n",
       "      <td>61</td>\n",
       "      <td>495</td>\n",
       "      <td>30</td>\n",
       "      <td>54</td>\n",
       "      <td>0</td>\n",
       "      <td>0</td>\n",
       "      <td>220.0</td>\n",
       "      <td>37.0</td>\n",
       "      <td>332</td>\n",
       "      <td>54</td>\n",
       "    </tr>\n",
       "    <tr>\n",
       "      <th>1</th>\n",
       "      <td>2934</td>\n",
       "      <td>63</td>\n",
       "      <td>434</td>\n",
       "      <td>30</td>\n",
       "      <td>57</td>\n",
       "      <td>0</td>\n",
       "      <td>0</td>\n",
       "      <td>291.0</td>\n",
       "      <td>23.0</td>\n",
       "      <td>483</td>\n",
       "      <td>70</td>\n",
       "    </tr>\n",
       "    <tr>\n",
       "      <th>3</th>\n",
       "      <td>2076</td>\n",
       "      <td>63</td>\n",
       "      <td>492</td>\n",
       "      <td>4</td>\n",
       "      <td>97</td>\n",
       "      <td>1</td>\n",
       "      <td>0</td>\n",
       "      <td>30.0</td>\n",
       "      <td>35.0</td>\n",
       "      <td>520</td>\n",
       "      <td>70</td>\n",
       "    </tr>\n",
       "    <tr>\n",
       "      <th>4</th>\n",
       "      <td>3741</td>\n",
       "      <td>136</td>\n",
       "      <td>446</td>\n",
       "      <td>32</td>\n",
       "      <td>73</td>\n",
       "      <td>1</td>\n",
       "      <td>0</td>\n",
       "      <td>42.0</td>\n",
       "      <td>2.0</td>\n",
       "      <td>499</td>\n",
       "      <td>70</td>\n",
       "    </tr>\n",
       "    <tr>\n",
       "      <th>5</th>\n",
       "      <td>2308</td>\n",
       "      <td>136</td>\n",
       "      <td>387</td>\n",
       "      <td>30</td>\n",
       "      <td>55</td>\n",
       "      <td>0</td>\n",
       "      <td>0</td>\n",
       "      <td>265.0</td>\n",
       "      <td>22.0</td>\n",
       "      <td>541</td>\n",
       "      <td>70</td>\n",
       "    </tr>\n",
       "  </tbody>\n",
       "</table>\n",
       "</div>"
      ],
      "text/plain": [
       "   VIN (1-10)  County  City  Make  Model  Electric Vehicle Type  \\\n",
       "0        2177      61   495    30     54                      0   \n",
       "1        2934      63   434    30     57                      0   \n",
       "3        2076      63   492     4     97                      1   \n",
       "4        3741     136   446    32     73                      1   \n",
       "5        2308     136   387    30     55                      0   \n",
       "\n",
       "   CAFV Eligibility  Electric Range  Legislative District  Vehicle Location  \\\n",
       "0                 0           220.0                  37.0               332   \n",
       "1                 0           291.0                  23.0               483   \n",
       "3                 0            30.0                  35.0               520   \n",
       "4                 0            42.0                   2.0               499   \n",
       "5                 0           265.0                  22.0               541   \n",
       "\n",
       "   Electric Utility  \n",
       "0                54  \n",
       "1                70  \n",
       "3                70  \n",
       "4                70  \n",
       "5                70  "
      ]
     },
     "execution_count": 50,
     "metadata": {},
     "output_type": "execute_result"
    }
   ],
   "source": [
    "df.head()"
   ]
  },
  {
   "cell_type": "code",
   "execution_count": 51,
   "id": "afd4d6a7",
   "metadata": {},
   "outputs": [],
   "source": [
    "x=df.drop(['Electric Range'],axis=1)\n",
    "y=df['Electric Range']"
   ]
  },
  {
   "cell_type": "code",
   "execution_count": 52,
   "id": "816611bc",
   "metadata": {},
   "outputs": [],
   "source": [
    "x_train,x_test,y_train,y_test=train_test_split(x,y,test_size=0.30,random_state=42)"
   ]
  },
  {
   "cell_type": "code",
   "execution_count": 53,
   "id": "87dd34cc",
   "metadata": {},
   "outputs": [],
   "source": [
    "knn=KNeighborsRegressor()\n",
    "bayes=BernoulliNB()\n",
    "linear=LinearRegression()\n",
    "tree=DecisionTreeRegressor()\n",
    "random=RandomForestRegressor()\n",
    "models=[knn,bayes,linear,tree,random]\n"
   ]
  },
  {
   "cell_type": "code",
   "execution_count": 54,
   "id": "817524b5",
   "metadata": {},
   "outputs": [
    {
     "name": "stdout",
     "output_type": "stream",
     "text": [
      "score  of KNeighborsRegressor(), 0.9206751279854196\n",
      "----------------------------------------------------------------------------------------------------\n",
      "Mean absolute percentage error of KNeighborsRegressor() is, 0.1738378448005733\n",
      "****************************************************************************************************\n",
      "score  of BernoulliNB(), 0.7122591985715845\n",
      "----------------------------------------------------------------------------------------------------\n",
      "Mean absolute percentage error of BernoulliNB() is, 0.35813060623634463\n",
      "****************************************************************************************************\n",
      "score  of LinearRegression(), 0.7307310617404923\n",
      "----------------------------------------------------------------------------------------------------\n",
      "Mean absolute percentage error of LinearRegression() is, 0.35197990779070537\n",
      "****************************************************************************************************\n",
      "score  of DecisionTreeRegressor(), 0.9958011092420198\n",
      "----------------------------------------------------------------------------------------------------\n",
      "Mean absolute percentage error of DecisionTreeRegressor() is, 0.004466787941586181\n",
      "****************************************************************************************************\n",
      "score  of RandomForestRegressor(), 0.9974673892187864\n",
      "----------------------------------------------------------------------------------------------------\n",
      "Mean absolute percentage error of RandomForestRegressor() is, 0.00664108741568144\n",
      "****************************************************************************************************\n"
     ]
    }
   ],
   "source": [
    "for i in models:\n",
    "    i.fit(x_train,y_train)\n",
    "    y_pred=i.predict(x_test)\n",
    "    score=r2_score(y_test,y_pred)\n",
    "    print(f'score  of {i},',score)\n",
    "    print('-'*100)\n",
    "    MAPE=mean_absolute_percentage_error(y_test,y_pred)\n",
    "    print(f'Mean absolute percentage error of {i} is,',MAPE)\n",
    "    print(\"*\"*100)"
   ]
  },
  {
   "cell_type": "markdown",
   "id": "6a5a4f84",
   "metadata": {},
   "source": [
    "##### THe Best Model is Random Forest"
   ]
  },
  {
   "cell_type": "code",
   "execution_count": 55,
   "id": "af72cb37",
   "metadata": {},
   "outputs": [
    {
     "name": "stdout",
     "output_type": "stream",
     "text": [
      "score  of RandomForestRegressor:0.9974673892187864\n",
      "Mean absolute percentage error:0.00664108741568144\n"
     ]
    }
   ],
   "source": [
    "model=RandomForestRegressor()\n",
    "model.fit(x_train,y_train)\n",
    "y_pred_=model.predict(x_test)\n",
    "score_=r2_score(y_test,y_pred)\n",
    "print(f\"score  of RandomForestRegressor:{score_}\")\n",
    "MAPE_=mean_absolute_percentage_error(y_test,y_pred)\n",
    "print(f'Mean absolute percentage error:{MAPE_}')\n"
   ]
  },
  {
   "cell_type": "code",
   "execution_count": 56,
   "id": "9da64055",
   "metadata": {},
   "outputs": [
    {
     "data": {
      "text/html": [
       "<div>\n",
       "<style scoped>\n",
       "    .dataframe tbody tr th:only-of-type {\n",
       "        vertical-align: middle;\n",
       "    }\n",
       "\n",
       "    .dataframe tbody tr th {\n",
       "        vertical-align: top;\n",
       "    }\n",
       "\n",
       "    .dataframe thead th {\n",
       "        text-align: right;\n",
       "    }\n",
       "</style>\n",
       "<table border=\"1\" class=\"dataframe\">\n",
       "  <thead>\n",
       "    <tr style=\"text-align: right;\">\n",
       "      <th></th>\n",
       "      <th>VIN (1-10)</th>\n",
       "      <th>County</th>\n",
       "      <th>City</th>\n",
       "      <th>Make</th>\n",
       "      <th>Model</th>\n",
       "      <th>Electric Vehicle Type</th>\n",
       "      <th>CAFV Eligibility</th>\n",
       "      <th>Electric Range</th>\n",
       "      <th>Legislative District</th>\n",
       "      <th>Vehicle Location</th>\n",
       "      <th>Electric Utility</th>\n",
       "    </tr>\n",
       "  </thead>\n",
       "  <tbody>\n",
       "    <tr>\n",
       "      <th>0</th>\n",
       "      <td>2177</td>\n",
       "      <td>61</td>\n",
       "      <td>495</td>\n",
       "      <td>30</td>\n",
       "      <td>54</td>\n",
       "      <td>0</td>\n",
       "      <td>0</td>\n",
       "      <td>220.0</td>\n",
       "      <td>37.0</td>\n",
       "      <td>332</td>\n",
       "      <td>54</td>\n",
       "    </tr>\n",
       "    <tr>\n",
       "      <th>1</th>\n",
       "      <td>2934</td>\n",
       "      <td>63</td>\n",
       "      <td>434</td>\n",
       "      <td>30</td>\n",
       "      <td>57</td>\n",
       "      <td>0</td>\n",
       "      <td>0</td>\n",
       "      <td>291.0</td>\n",
       "      <td>23.0</td>\n",
       "      <td>483</td>\n",
       "      <td>70</td>\n",
       "    </tr>\n",
       "    <tr>\n",
       "      <th>3</th>\n",
       "      <td>2076</td>\n",
       "      <td>63</td>\n",
       "      <td>492</td>\n",
       "      <td>4</td>\n",
       "      <td>97</td>\n",
       "      <td>1</td>\n",
       "      <td>0</td>\n",
       "      <td>30.0</td>\n",
       "      <td>35.0</td>\n",
       "      <td>520</td>\n",
       "      <td>70</td>\n",
       "    </tr>\n",
       "    <tr>\n",
       "      <th>4</th>\n",
       "      <td>3741</td>\n",
       "      <td>136</td>\n",
       "      <td>446</td>\n",
       "      <td>32</td>\n",
       "      <td>73</td>\n",
       "      <td>1</td>\n",
       "      <td>0</td>\n",
       "      <td>42.0</td>\n",
       "      <td>2.0</td>\n",
       "      <td>499</td>\n",
       "      <td>70</td>\n",
       "    </tr>\n",
       "    <tr>\n",
       "      <th>5</th>\n",
       "      <td>2308</td>\n",
       "      <td>136</td>\n",
       "      <td>387</td>\n",
       "      <td>30</td>\n",
       "      <td>55</td>\n",
       "      <td>0</td>\n",
       "      <td>0</td>\n",
       "      <td>265.0</td>\n",
       "      <td>22.0</td>\n",
       "      <td>541</td>\n",
       "      <td>70</td>\n",
       "    </tr>\n",
       "  </tbody>\n",
       "</table>\n",
       "</div>"
      ],
      "text/plain": [
       "   VIN (1-10)  County  City  Make  Model  Electric Vehicle Type  \\\n",
       "0        2177      61   495    30     54                      0   \n",
       "1        2934      63   434    30     57                      0   \n",
       "3        2076      63   492     4     97                      1   \n",
       "4        3741     136   446    32     73                      1   \n",
       "5        2308     136   387    30     55                      0   \n",
       "\n",
       "   CAFV Eligibility  Electric Range  Legislative District  Vehicle Location  \\\n",
       "0                 0           220.0                  37.0               332   \n",
       "1                 0           291.0                  23.0               483   \n",
       "3                 0            30.0                  35.0               520   \n",
       "4                 0            42.0                   2.0               499   \n",
       "5                 0           265.0                  22.0               541   \n",
       "\n",
       "   Electric Utility  \n",
       "0                54  \n",
       "1                70  \n",
       "3                70  \n",
       "4                70  \n",
       "5                70  "
      ]
     },
     "execution_count": 56,
     "metadata": {},
     "output_type": "execute_result"
    }
   ],
   "source": [
    "df.head()"
   ]
  },
  {
   "cell_type": "code",
   "execution_count": 57,
   "id": "0377ecac",
   "metadata": {},
   "outputs": [
    {
     "name": "stdout",
     "output_type": "stream",
     "text": [
      "Predicted Electric Range (km): [291.]\n"
     ]
    },
    {
     "name": "stderr",
     "output_type": "stream",
     "text": [
      "c:\\Users\\anjuc\\AppData\\Local\\Programs\\Python\\Python313\\Lib\\site-packages\\sklearn\\utils\\validation.py:2739: UserWarning: X does not have valid feature names, but RandomForestRegressor was fitted with feature names\n",
      "  warnings.warn(\n"
     ]
    }
   ],
   "source": [
    "print(\"Predicted Electric Range (km):\", random.predict([[2934\t,63\t,434\t,30\t,57,0,\t0,\t23.0,\t483\t,70]]))\n"
   ]
  },
  {
   "cell_type": "code",
   "execution_count": 58,
   "id": "e14d0149",
   "metadata": {},
   "outputs": [
    {
     "name": "stdout",
     "output_type": "stream",
     "text": [
      "Predicted Electric Range (km): [42.]\n"
     ]
    },
    {
     "name": "stderr",
     "output_type": "stream",
     "text": [
      "c:\\Users\\anjuc\\AppData\\Local\\Programs\\Python\\Python313\\Lib\\site-packages\\sklearn\\utils\\validation.py:2739: UserWarning: X does not have valid feature names, but RandomForestRegressor was fitted with feature names\n",
      "  warnings.warn(\n"
     ]
    }
   ],
   "source": [
    "print(\"Predicted Electric Range (km):\", random.predict([[3741\t,136,\t446,\t32,\t73,\t1,\t0,\t\t2.0,\t499,\t70]]))\n"
   ]
  },
  {
   "cell_type": "code",
   "execution_count": 59,
   "id": "d69ec9aa",
   "metadata": {},
   "outputs": [],
   "source": [
    "import pickle \n",
    "\n",
    "with open(\"electric_vehicle.pkl\",\"wb\") as f:\n",
    "    pickle.dump(model,f)\n",
    "\n",
    "# with open(\"encoding.pkl\",\"wb\") as f:\n",
    "#     pickle.dump(lab,f)"
   ]
  },
  {
   "cell_type": "code",
   "execution_count": 60,
   "id": "2cf13e8d",
   "metadata": {},
   "outputs": [],
   "source": [
    "import pickle\n",
    "from sklearn.preprocessing import LabelEncoder\n",
    "\n",
    "object_columns = [\n",
    "    'VIN (1-10)',\n",
    "    'County',\n",
    "    'City',\n",
    "    'Make',\n",
    "    'Model',\n",
    "    'Electric Vehicle Type',\n",
    "    'CAFV Eligibility',\n",
    "    'Vehicle Location',\t\n",
    "    'Electric Utility'\n",
    "    \n",
    "]\n",
    "\n",
    "# Dictionary to store encoders\n",
    "encoders = {}\n",
    "\n",
    "# Apply LabelEncoder to each column and save encoder\n",
    "for col in object_columns:\n",
    "    lab = LabelEncoder()\n",
    "    df[col] = lab.fit_transform(df[col])\n",
    "    encoders[col] = lab\n",
    "    # Save each encoder as a separate .pkl file\n",
    "    with open(f'{col}_encoder.pkl', 'wb') as f:\n",
    "        pickle.dump(lab,f)"
   ]
  },
  {
   "cell_type": "code",
   "execution_count": null,
   "id": "582ec2ac",
   "metadata": {},
   "outputs": [],
   "source": [
    "#JTMAB3FV7P\t\n",
    "#Thurston\t\n",
    "# Rainier\t\n",
    "# TOYOTA\t\n",
    "# RAV4 PRIME\t\n",
    "# Plug-in Hybrid Electric Vehicle (PHEV)\t\n",
    "# Clean Alternative Fuel Vehicle Eligible\t\t\n",
    "# 2.0\t\t\n",
    "# POINT (-122.68993 46.88897)\t\n",
    "# PUGET SOUND ENERGY INC\t"
   ]
  }
 ],
 "metadata": {
  "kernelspec": {
   "display_name": "Python 3",
   "language": "python",
   "name": "python3"
  },
  "language_info": {
   "codemirror_mode": {
    "name": "ipython",
    "version": 3
   },
   "file_extension": ".py",
   "mimetype": "text/x-python",
   "name": "python",
   "nbconvert_exporter": "python",
   "pygments_lexer": "ipython3",
   "version": "3.13.0"
  }
 },
 "nbformat": 4,
 "nbformat_minor": 5
}
